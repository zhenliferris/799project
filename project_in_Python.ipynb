{
 "cells": [
  {
   "cell_type": "code",
   "execution_count": 2,
   "metadata": {},
   "outputs": [],
   "source": [
    "import pandas as pd\n",
    "import numpy as np\n",
    "import matplotlib.pyplot as plt\n",
    "import seaborn as sns"
   ]
  },
  {
   "cell_type": "code",
   "execution_count": 3,
   "metadata": {},
   "outputs": [],
   "source": [
    "file_path = \"C:/799CapStone_Z/facial_oral_temperature_data/FLIR_groups1and2.csv\"\n",
    "data = pd.read_csv(file_path, header=None)\n",
    "# Selecting specific columns\n",
    "columns_to_select = list(range(3, 28)) + [29] + list(range(117, 123))\n",
    "data_selected = data.iloc[:, columns_to_select]\n",
    "\n"
   ]
  },
  {
   "cell_type": "code",
   "execution_count": 4,
   "metadata": {},
   "outputs": [],
   "source": [
    "# Setting column names\n",
    "data_selected.columns = data_selected.iloc[2]\n",
    "data_selected = data_selected.drop([0, 1, 2])\n",
    "\n",
    "# Converting empty strings to NA and removing rows with NA values\n",
    "data_selected.replace(\"\", np.nan, inplace=True)\n",
    "data_cleaned = data_selected.dropna()\n"
   ]
  },
  {
   "cell_type": "code",
   "execution_count": 5,
   "metadata": {},
   "outputs": [],
   "source": [
    "# Combining age groups\n",
    "data_cleaned['Age'] = data_cleaned['Age'].replace(['21-25', '26-30'], '21-30')\n",
    "data_cleaned['Age'] = data_cleaned['Age'].replace(['>60'], '60+')\n"
   ]
  },
  {
   "cell_type": "code",
   "execution_count": 7,
   "metadata": {},
   "outputs": [
    {
     "ename": "TypeError",
     "evalue": "bar() missing 1 required positional argument: 'height'",
     "output_type": "error",
     "traceback": [
      "\u001b[1;31m---------------------------------------------------------------------------\u001b[0m",
      "\u001b[1;31mTypeError\u001b[0m                                 Traceback (most recent call last)",
      "Cell \u001b[1;32mIn[7], line 4\u001b[0m\n\u001b[0;32m      2\u001b[0m catvars_plot \u001b[38;5;241m=\u001b[39m data_cleaned\u001b[38;5;241m.\u001b[39mcolumns[\u001b[38;5;241m27\u001b[39m:\u001b[38;5;241m30\u001b[39m]\n\u001b[0;32m      3\u001b[0m \u001b[38;5;28;01mfor\u001b[39;00m catvar \u001b[38;5;129;01min\u001b[39;00m catvars_plot:\n\u001b[1;32m----> 4\u001b[0m     \u001b[43mplt\u001b[49m\u001b[38;5;241;43m.\u001b[39;49m\u001b[43mbar\u001b[49m\u001b[43m(\u001b[49m\u001b[43mcatvar\u001b[49m\u001b[43m)\u001b[49m\n\u001b[0;32m      5\u001b[0m     plt\u001b[38;5;241m.\u001b[39mfigure(figsize\u001b[38;5;241m=\u001b[39m(\u001b[38;5;241m10\u001b[39m, \u001b[38;5;241m6\u001b[39m))\n\u001b[0;32m      6\u001b[0m     sns\u001b[38;5;241m.\u001b[39mcountplot(data\u001b[38;5;241m=\u001b[39mdata_cleaned, x\u001b[38;5;241m=\u001b[39mcatvar)\n",
      "\u001b[1;31mTypeError\u001b[0m: bar() missing 1 required positional argument: 'height'"
     ]
    }
   ],
   "source": [
    "# Plotting categorical data\n",
    "catvars_plot = data_cleaned.columns[27:30]\n",
    "for catvar in catvars_plot:\n",
    "    plt.bar(catvar)\n",
    "    plt.figure(figsize=(10, 6))\n",
    "    sns.countplot(data=data_cleaned, x=catvar)\n",
    "    plt.title(f'Bar chart grouped by {catvar}')\n",
    "    plt.xlabel(catvar)\n",
    "    plt.ylabel('Frequency')\n",
    "    plt.xticks(rotation=90)\n",
    "    plt.show()"
   ]
  },
  {
   "cell_type": "code",
   "execution_count": null,
   "metadata": {},
   "outputs": [],
   "source": [
    "\n",
    "\n",
    "\n",
    "\n",
    "# Encoding categorical variables and removing specific columns\n",
    "data_cleaned['Gender_M'] = data_cleaned['Gender'].apply(lambda x: 1 if x == 'Male' else 0)\n",
    "data_cleaned = data_cleaned.drop(columns=['Gender', 'Age', 'Ethnicity'])\n",
    "\n",
    "# Splitting the data into training and testing sets\n",
    "X = data_cleaned.drop(columns=['T_OR_Max1'])  # Replace 'T_OR_Max1' with the actual dependent variable column name\n",
    "y = data_cleaned['T_OR_Max1']\n",
    "X_train, X_test, y_train, y_test = train_test_split(X, y, test_size=0.3, random_state=42)\n",
    "\n",
    "# Ridge regression model training\n",
    "ridge = Ridge(alpha=1.0)\n",
    "ridge.fit(X_train, y_train)\n",
    "\n",
    "# Predictions on training data\n",
    "ridge_train_preds = ridge.predict(X_train)\n",
    "ridge_train_rmse = np.sqrt(mean_squared_error(y_train, ridge_train_preds))\n",
    "ridge_r2_train = r2_score(y_train, ridge_train_preds)\n",
    "\n",
    "# Predictions on test data\n",
    "ridge_test_preds = ridge.predict(X_test)\n",
    "ridge_test_rmse = np.sqrt(mean_squared_error(y_test, ridge_test_preds))\n",
    "\n",
    "print(\"Calculated value based on Ridge model:\")\n",
    "print(\"R-squared:\", ridge_r2_train)\n",
    "print(\"RMSE on Training Data:\", ridge_train_rmse)\n",
    "print(\"RMSE on Testing Data:\", ridge_test_rmse)"
   ]
  }
 ],
 "metadata": {
  "kernelspec": {
   "display_name": "Python 3",
   "language": "python",
   "name": "python3"
  },
  "language_info": {
   "codemirror_mode": {
    "name": "ipython",
    "version": 3
   },
   "file_extension": ".py",
   "mimetype": "text/x-python",
   "name": "python",
   "nbconvert_exporter": "python",
   "pygments_lexer": "ipython3",
   "version": "3.11.0"
  }
 },
 "nbformat": 4,
 "nbformat_minor": 2
}
