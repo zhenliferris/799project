{
 "cells": [
  {
   "cell_type": "code",
   "execution_count": 4,
   "metadata": {},
   "outputs": [],
   "source": [
    "from collections import deque"
   ]
  },
  {
   "cell_type": "code",
   "execution_count": 2,
   "metadata": {},
   "outputs": [],
   "source": [
    "my_list = []\n",
    "my_list.append('step0')\n",
    "my_list.append('step1')\n",
    "my_list.append('step2')\n",
    "my_list.append('step3')"
   ]
  },
  {
   "cell_type": "code",
   "execution_count": 5,
   "metadata": {},
   "outputs": [],
   "source": [
    "queue = deque(my_list)\n",
    "queue.append('step_new')"
   ]
  },
  {
   "cell_type": "markdown",
   "metadata": {},
   "source": [
    "# Python's deque object \n",
    "double-ended queue"
   ]
  },
  {
   "cell_type": "code",
   "execution_count": 7,
   "metadata": {},
   "outputs": [
    {
     "data": {
      "text/plain": [
       "deque(['step0', 'step1', 'step2', 'step3', 'step_new'])"
      ]
     },
     "execution_count": 7,
     "metadata": {},
     "output_type": "execute_result"
    }
   ],
   "source": [
    "queue"
   ]
  },
  {
   "cell_type": "code",
   "execution_count": 11,
   "metadata": {},
   "outputs": [
    {
     "data": {
      "text/plain": [
       "collections.deque"
      ]
     },
     "execution_count": 11,
     "metadata": {},
     "output_type": "execute_result"
    }
   ],
   "source": [
    "type(queue)"
   ]
  },
  {
   "cell_type": "code",
   "execution_count": 8,
   "metadata": {},
   "outputs": [
    {
     "name": "stdout",
     "output_type": "stream",
     "text": [
      "step0  - Done!\n"
     ]
    }
   ],
   "source": [
    "print(queue.popleft(), ' - Done!')"
   ]
  },
  {
   "cell_type": "code",
   "execution_count": 9,
   "metadata": {},
   "outputs": [
    {
     "data": {
      "text/plain": [
       "['step1', 'step2', 'step3', 'step_new']"
      ]
     },
     "execution_count": 9,
     "metadata": {},
     "output_type": "execute_result"
    }
   ],
   "source": [
    "my_list_new = list(queue)\n",
    "my_list_new"
   ]
  },
  {
   "cell_type": "code",
   "execution_count": 12,
   "metadata": {},
   "outputs": [
    {
     "data": {
      "text/plain": [
       "['step0', 'step1', 'step2', 'step3']"
      ]
     },
     "execution_count": 12,
     "metadata": {},
     "output_type": "execute_result"
    }
   ],
   "source": [
    "my_list"
   ]
  },
  {
   "cell_type": "code",
   "execution_count": 28,
   "metadata": {},
   "outputs": [],
   "source": [
    "stack = []\n",
    "for task in my_list:\n",
    "    stack.append(task)"
   ]
  },
  {
   "cell_type": "code",
   "execution_count": 15,
   "metadata": {},
   "outputs": [],
   "source": [
    "stack1 = list(my_list)\n",
    "stack2 = my_list[:]"
   ]
  },
  {
   "cell_type": "code",
   "execution_count": 16,
   "metadata": {},
   "outputs": [
    {
     "data": {
      "text/plain": [
       "True"
      ]
     },
     "execution_count": 16,
     "metadata": {},
     "output_type": "execute_result"
    }
   ],
   "source": [
    "stack == stack1"
   ]
  },
  {
   "cell_type": "code",
   "execution_count": 17,
   "metadata": {},
   "outputs": [
    {
     "data": {
      "text/plain": [
       "True"
      ]
     },
     "execution_count": 17,
     "metadata": {},
     "output_type": "execute_result"
    }
   ],
   "source": [
    "stack == stack2"
   ]
  },
  {
   "cell_type": "code",
   "execution_count": 29,
   "metadata": {},
   "outputs": [
    {
     "name": "stdout",
     "output_type": "stream",
     "text": [
      "['step0', 'step1', 'step2', 'step3']\n",
      "step3 - Done!\n",
      "step2 - Done!\n",
      "step1 - Done!\n",
      "step0 - Done!\n",
      "\n",
      "The stack is empty!\n",
      "\n"
     ]
    }
   ],
   "source": [
    "print(stack)\n",
    "while stack:\n",
    "    print(stack.pop(), '- Done!')\n",
    "print('\\nThe stack is empty!\\n')"
   ]
  },
  {
   "cell_type": "code",
   "execution_count": 18,
   "metadata": {},
   "outputs": [],
   "source": [
    "alist = [[1,3], [4,5], [6,7]]\n",
    "blist = alist[:]"
   ]
  },
  {
   "cell_type": "code",
   "execution_count": 19,
   "metadata": {},
   "outputs": [
    {
     "data": {
      "text/plain": [
       "True"
      ]
     },
     "execution_count": 19,
     "metadata": {},
     "output_type": "execute_result"
    }
   ],
   "source": [
    "alist == blist"
   ]
  },
  {
   "cell_type": "code",
   "execution_count": 20,
   "metadata": {},
   "outputs": [],
   "source": [
    "blist[len(blist):] =[2,5]"
   ]
  },
  {
   "cell_type": "code",
   "execution_count": 21,
   "metadata": {},
   "outputs": [
    {
     "data": {
      "text/plain": [
       "[[1, 3], [4, 5], [6, 7]]"
      ]
     },
     "execution_count": 21,
     "metadata": {},
     "output_type": "execute_result"
    }
   ],
   "source": [
    "alist"
   ]
  },
  {
   "cell_type": "code",
   "execution_count": 22,
   "metadata": {},
   "outputs": [
    {
     "data": {
      "text/plain": [
       "[[1, 3], [4, 5], [6, 7], 2, 5]"
      ]
     },
     "execution_count": 22,
     "metadata": {},
     "output_type": "execute_result"
    }
   ],
   "source": [
    "blist"
   ]
  },
  {
   "cell_type": "code",
   "execution_count": 30,
   "metadata": {},
   "outputs": [],
   "source": [
    "import spacy\n"
   ]
  },
  {
   "cell_type": "code",
   "execution_count": 53,
   "metadata": {},
   "outputs": [
    {
     "name": "stdout",
     "output_type": "stream",
     "text": [
      "List\n",
      "a ubiquitous data structure\n",
      "the Python programming language\n"
     ]
    }
   ],
   "source": [
    "# Load the spaCy model\n",
    "nlp = spacy.load('en_core_web_sm')\n",
    "\n",
    "# Input text\n",
    "txt = 'List is a ubiquitous data structure in the Python programming language.'\n",
    "doc = nlp(txt)\n",
    "\n",
    "# Initialize an empty stack and a list to hold chunks\n",
    "stk = []\n",
    "chunks = []\n",
    "\n",
    "# Process each token in the document\n",
    "for w in doc:\n",
    "    if w.pos_ == 'NOUN' or w.pos_ == 'PROPN':\n",
    "        stk.append(w.text)\n",
    "    elif (w.head.pos_ == 'NOUN' or w.head.pos_ == 'PROPN') and (w in w.head.lefts):\n",
    "        stk.append(w.text)\n",
    "    elif stk:\n",
    "        chunk = ' '.join(stk)\n",
    "        chunks.append(chunk)\n",
    "        stk = []\n",
    "\n",
    "# Add the last chunk if any tokens are left in the stack\n",
    "if stk:\n",
    "    chunk = ' '.join(stk)\n",
    "    chunks.append(chunk)\n",
    "\n",
    "# Print the identified chunks\n",
    "for chunk in chunks:\n",
    "    print(chunk)\n"
   ]
  },
  {
   "cell_type": "code",
   "execution_count": 55,
   "metadata": {},
   "outputs": [
    {
     "name": "stdout",
     "output_type": "stream",
     "text": [
      "List is\n",
      "is is\n",
      "a structure\n",
      "ubiquitous structure\n",
      "data structure\n",
      "structure is\n",
      "in structure\n",
      "the language\n",
      "Python language\n",
      "programming language\n",
      "language in\n",
      ". is\n"
     ]
    }
   ],
   "source": [
    "# Input text\n",
    "txt = 'List is a ubiquitous data structure in the Python programming language.'\n",
    "doc = nlp(txt)\n",
    "for t in doc:\n",
    "    print(t.text, t.head.text)\n"
   ]
  },
  {
   "cell_type": "code",
   "execution_count": 48,
   "metadata": {},
   "outputs": [
    {
     "name": "stdout",
     "output_type": "stream",
     "text": [
      "is\n",
      "is\n",
      "structure\n",
      "structure\n",
      "structure\n",
      "is\n",
      "structure\n",
      "Python\n",
      "in\n",
      "language\n",
      "in\n",
      "is\n"
     ]
    }
   ],
   "source": [
    "for w in doc:\n",
    "    print(w.head.text)\n",
    "    # print(w.text)\n",
    "    # print(w.pos_)"
   ]
  },
  {
   "cell_type": "code",
   "execution_count": 65,
   "metadata": {},
   "outputs": [
    {
     "data": {
      "text/plain": [
       "[1, 2, 3, 4]"
      ]
     },
     "execution_count": 65,
     "metadata": {},
     "output_type": "execute_result"
    }
   ],
   "source": [
    "my_list_index = [_ for _ in range(1,len(my_list)+1)]\n",
    "my_list_index"
   ]
  },
  {
   "cell_type": "code",
   "execution_count": 85,
   "metadata": {},
   "outputs": [],
   "source": [
    "my_list_set = tuple((id, step) for id, step in zip(my_list_index, my_list))"
   ]
  },
  {
   "cell_type": "code",
   "execution_count": 86,
   "metadata": {},
   "outputs": [
    {
     "data": {
      "text/plain": [
       "((1, 'step0'), (2, 'step1'), (3, 'step2'), (4, 'step3'))"
      ]
     },
     "execution_count": 86,
     "metadata": {},
     "output_type": "execute_result"
    }
   ],
   "source": [
    "my_list_set"
   ]
  },
  {
   "cell_type": "code",
   "execution_count": 84,
   "metadata": {},
   "outputs": [
    {
     "data": {
      "text/plain": [
       "((1, 'step0'), (2, 'step1'), (3, 'step2'), (4, 'step3'))"
      ]
     },
     "execution_count": 84,
     "metadata": {},
     "output_type": "execute_result"
    }
   ],
   "source": []
  },
  {
   "cell_type": "code",
   "execution_count": null,
   "metadata": {},
   "outputs": [],
   "source": []
  }
 ],
 "metadata": {
  "kernelspec": {
   "display_name": "Python 3",
   "language": "python",
   "name": "python3"
  },
  "language_info": {
   "codemirror_mode": {
    "name": "ipython",
    "version": 3
   },
   "file_extension": ".py",
   "mimetype": "text/x-python",
   "name": "python",
   "nbconvert_exporter": "python",
   "pygments_lexer": "ipython3",
   "version": "3.11.0"
  }
 },
 "nbformat": 4,
 "nbformat_minor": 2
}
