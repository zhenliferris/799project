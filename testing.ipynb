{
 "cells": [
  {
   "cell_type": "code",
   "execution_count": 10,
   "metadata": {},
   "outputs": [],
   "source": [
    "txt = '''Max barked joyfully, and Mrs. Thompson gently reassured Emily that they would take her back to her family. Max led the way once more, his tail wagging proudly. They soon found Emily's family, who were overjoy.'''"
   ]
  },
  {
   "cell_type": "code",
   "execution_count": 11,
   "metadata": {},
   "outputs": [],
   "source": [
    "word_list = [[w.replace(',', '') for w in line.split() if w not in ['-']]\n",
    "             for line in txt.replace('?', '').split('.')]"
   ]
  },
  {
   "cell_type": "code",
   "execution_count": 12,
   "metadata": {},
   "outputs": [
    {
     "data": {
      "text/plain": [
       "[['Max', 'barked', 'joyfully', 'and', 'Mrs'],\n",
       " ['Thompson',\n",
       "  'gently',\n",
       "  'reassured',\n",
       "  'Emily',\n",
       "  'that',\n",
       "  'they',\n",
       "  'would',\n",
       "  'take',\n",
       "  'her',\n",
       "  'back',\n",
       "  'to',\n",
       "  'her',\n",
       "  'family'],\n",
       " ['Max',\n",
       "  'led',\n",
       "  'the',\n",
       "  'way',\n",
       "  'once',\n",
       "  'more',\n",
       "  'his',\n",
       "  'tail',\n",
       "  'wagging',\n",
       "  'proudly'],\n",
       " ['They', 'soon', 'found', \"Emily's\", 'family', 'who', 'were', 'overjoy'],\n",
       " []]"
      ]
     },
     "execution_count": 12,
     "metadata": {},
     "output_type": "execute_result"
    }
   ],
   "source": [
    "word_list"
   ]
  },
  {
   "cell_type": "code",
   "execution_count": null,
   "metadata": {},
   "outputs": [],
   "source": []
  }
 ],
 "metadata": {
  "kernelspec": {
   "display_name": "Python 3",
   "language": "python",
   "name": "python3"
  },
  "language_info": {
   "codemirror_mode": {
    "name": "ipython",
    "version": 3
   },
   "file_extension": ".py",
   "mimetype": "text/x-python",
   "name": "python",
   "nbconvert_exporter": "python",
   "pygments_lexer": "ipython3",
   "version": "3.11.0"
  }
 },
 "nbformat": 4,
 "nbformat_minor": 2
}
